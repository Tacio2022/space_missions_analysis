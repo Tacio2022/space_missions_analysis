{
 "cells": [
  {
   "cell_type": "code",
   "execution_count": 12,
   "id": "f23ea8e4",
   "metadata": {},
   "outputs": [],
   "source": [
    "import pandas as pd\n",
    "import numpy as np\n",
    "import panel as pn\n",
    "pn.extension('tabulator')\n",
    "\n",
    "import hvplot.pandas"
   ]
  },
  {
   "cell_type": "code",
   "execution_count": 13,
   "id": "427261c9",
   "metadata": {},
   "outputs": [],
   "source": [
    "df = pd.read_csv('yearly_organisation_launches')"
   ]
  },
  {
   "cell_type": "code",
   "execution_count": 14,
   "id": "7b767df7",
   "metadata": {
    "scrolled": true
   },
   "outputs": [
    {
     "data": {
      "text/html": [
       "<div>\n",
       "<style scoped>\n",
       "    .dataframe tbody tr th:only-of-type {\n",
       "        vertical-align: middle;\n",
       "    }\n",
       "\n",
       "    .dataframe tbody tr th {\n",
       "        vertical-align: top;\n",
       "    }\n",
       "\n",
       "    .dataframe thead th {\n",
       "        text-align: right;\n",
       "    }\n",
       "</style>\n",
       "<table border=\"1\" class=\"dataframe\">\n",
       "  <thead>\n",
       "    <tr style=\"text-align: right;\">\n",
       "      <th></th>\n",
       "      <th>Year</th>\n",
       "      <th>Organisation</th>\n",
       "      <th>Yearly_Organisation_Launches</th>\n",
       "    </tr>\n",
       "  </thead>\n",
       "  <tbody>\n",
       "    <tr>\n",
       "      <th>0</th>\n",
       "      <td>1957</td>\n",
       "      <td>RVSN USSR</td>\n",
       "      <td>2</td>\n",
       "    </tr>\n",
       "    <tr>\n",
       "      <th>1</th>\n",
       "      <td>1957</td>\n",
       "      <td>US Navy</td>\n",
       "      <td>1</td>\n",
       "    </tr>\n",
       "    <tr>\n",
       "      <th>2</th>\n",
       "      <td>1958</td>\n",
       "      <td>AMBA</td>\n",
       "      <td>7</td>\n",
       "    </tr>\n",
       "    <tr>\n",
       "      <th>3</th>\n",
       "      <td>1958</td>\n",
       "      <td>NASA</td>\n",
       "      <td>2</td>\n",
       "    </tr>\n",
       "    <tr>\n",
       "      <th>4</th>\n",
       "      <td>1958</td>\n",
       "      <td>RVSN USSR</td>\n",
       "      <td>5</td>\n",
       "    </tr>\n",
       "  </tbody>\n",
       "</table>\n",
       "</div>"
      ],
      "text/plain": [
       "   Year Organisation  Yearly_Organisation_Launches\n",
       "0  1957    RVSN USSR                             2\n",
       "1  1957      US Navy                             1\n",
       "2  1958         AMBA                             7\n",
       "3  1958         NASA                             2\n",
       "4  1958    RVSN USSR                             5"
      ]
     },
     "execution_count": 14,
     "metadata": {},
     "output_type": "execute_result"
    }
   ],
   "source": [
    "df.head()"
   ]
  },
  {
   "cell_type": "code",
   "execution_count": 15,
   "id": "4855562a",
   "metadata": {},
   "outputs": [],
   "source": [
    "#Interactive DataFrame Pipeline\n",
    "\n",
    "idf = df.interactive()"
   ]
  },
  {
   "cell_type": "code",
   "execution_count": 16,
   "id": "61712712",
   "metadata": {},
   "outputs": [
    {
     "data": {},
     "metadata": {},
     "output_type": "display_data"
    },
    {
     "data": {
      "application/vnd.holoviews_exec.v0+json": "",
      "text/html": [
       "<div id='5291'>\n",
       "\n",
       "\n",
       "\n",
       "\n",
       "\n",
       "  <div class=\"bk-root\" id=\"a1d8c8d8-31ed-4a5d-95f3-8052cce5ce64\" data-root-id=\"5291\"></div>\n",
       "</div>\n",
       "<script type=\"application/javascript\">(function(root) {\n",
       "  function embed_document(root) {\n",
       "    var docs_json = {\"b3ea638b-f4f1-41a8-a341-fdd60d0b5ac0\":{\"defs\":[{\"extends\":null,\"module\":null,\"name\":\"ReactiveHTML1\",\"overrides\":[],\"properties\":[]},{\"extends\":null,\"module\":null,\"name\":\"FlexBox1\",\"overrides\":[],\"properties\":[{\"default\":\"flex-start\",\"kind\":null,\"name\":\"align_content\"},{\"default\":\"flex-start\",\"kind\":null,\"name\":\"align_items\"},{\"default\":\"row\",\"kind\":null,\"name\":\"flex_direction\"},{\"default\":\"wrap\",\"kind\":null,\"name\":\"flex_wrap\"},{\"default\":\"flex-start\",\"kind\":null,\"name\":\"justify_content\"}]},{\"extends\":null,\"module\":null,\"name\":\"GridStack1\",\"overrides\":[],\"properties\":[{\"default\":\"warn\",\"kind\":null,\"name\":\"mode\"},{\"default\":null,\"kind\":null,\"name\":\"ncols\"},{\"default\":null,\"kind\":null,\"name\":\"nrows\"},{\"default\":true,\"kind\":null,\"name\":\"allow_resize\"},{\"default\":true,\"kind\":null,\"name\":\"allow_drag\"},{\"default\":[],\"kind\":null,\"name\":\"state\"}]},{\"extends\":null,\"module\":null,\"name\":\"click1\",\"overrides\":[],\"properties\":[{\"default\":\"\",\"kind\":null,\"name\":\"terminal_output\"},{\"default\":\"\",\"kind\":null,\"name\":\"debug_name\"},{\"default\":0,\"kind\":null,\"name\":\"clears\"}]},{\"extends\":null,\"module\":null,\"name\":\"TemplateActions1\",\"overrides\":[],\"properties\":[{\"default\":0,\"kind\":null,\"name\":\"open_modal\"},{\"default\":0,\"kind\":null,\"name\":\"close_modal\"}]},{\"extends\":null,\"module\":null,\"name\":\"MaterialTemplateActions1\",\"overrides\":[],\"properties\":[{\"default\":0,\"kind\":null,\"name\":\"open_modal\"},{\"default\":0,\"kind\":null,\"name\":\"close_modal\"}]}],\"roots\":{\"references\":[{\"attributes\":{\"client_comm_id\":\"1ad8a80ca15945448cfa395a28cc9d80\",\"comm_id\":\"53b2c49877914a9a9cad53fd643f04df\",\"plot_id\":\"5291\"},\"id\":\"5292\",\"type\":\"panel.models.comm_manager.CommManager\"},{\"attributes\":{\"end\":2020,\"margin\":[5,10,5,10],\"start\":1957,\"title\":\"Year slider\",\"value\":1957},\"id\":\"5291\",\"type\":\"Slider\"}],\"root_ids\":[\"5291\",\"5292\"]},\"title\":\"Bokeh Application\",\"version\":\"2.4.2\"}};\n",
       "    var render_items = [{\"docid\":\"b3ea638b-f4f1-41a8-a341-fdd60d0b5ac0\",\"root_ids\":[\"5291\"],\"roots\":{\"5291\":\"a1d8c8d8-31ed-4a5d-95f3-8052cce5ce64\"}}];\n",
       "    root.Bokeh.embed.embed_items_notebook(docs_json, render_items);\n",
       "  }\n",
       "  if (root.Bokeh !== undefined && root.Bokeh.Panel !== undefined && ( root['Tabulator'] !== undefined)) {\n",
       "    embed_document(root);\n",
       "  } else {\n",
       "    var attempts = 0;\n",
       "    var timer = setInterval(function(root) {\n",
       "      if (root.Bokeh !== undefined && root.Bokeh.Panel !== undefined && (root['Tabulator'] !== undefined)) {\n",
       "        clearInterval(timer);\n",
       "        embed_document(root);\n",
       "      } else if (document.readyState == \"complete\") {\n",
       "        attempts++;\n",
       "        if (attempts > 200) {\n",
       "          clearInterval(timer);\n",
       "          console.log(\"Bokeh: ERROR: Unable to run BokehJS code because BokehJS library is missing\");\n",
       "        }\n",
       "      }\n",
       "    }, 25, root)\n",
       "  }\n",
       "})(window);</script>"
      ],
      "text/plain": [
       "IntSlider(end=2020, name='Year slider', start=1957, value=1957)"
      ]
     },
     "execution_count": 16,
     "metadata": {
      "application/vnd.holoviews_exec.v0+json": {
       "id": "5291"
      }
     },
     "output_type": "execute_result"
    }
   ],
   "source": [
    "# Create a slider by year\n",
    "year_slider = pn.widgets.IntSlider(name='Year slider', start=1957, end=2020, step=1,value=1957)\n",
    "year_slider"
   ]
  },
  {
   "cell_type": "code",
   "execution_count": 17,
   "id": "682303bb",
   "metadata": {},
   "outputs": [],
   "source": [
    "# df.groupby(['Year','Organisation']).sum()"
   ]
  },
  {
   "cell_type": "code",
   "execution_count": 18,
   "id": "b3b4708f",
   "metadata": {},
   "outputs": [],
   "source": [
    "launch_pipeline = (idf[idf.Year == year_slider])"
   ]
  },
  {
   "cell_type": "code",
   "execution_count": 19,
   "id": "4b8b1caf",
   "metadata": {},
   "outputs": [],
   "source": [
    "launch_plot = launch_pipeline.hvplot(x='Year', by='Organisation', y='Yearly_Organisation_Launches',kind='bar',\n",
    "                                     rot=90, width=800)"
   ]
  },
  {
   "cell_type": "code",
   "execution_count": 20,
   "id": "161e2960",
   "metadata": {
    "scrolled": false
   },
   "outputs": [
    {
     "data": {},
     "metadata": {},
     "output_type": "display_data"
    },
    {
     "data": {},
     "metadata": {},
     "output_type": "display_data"
    },
    {
     "data": {
      "application/vnd.holoviews_exec.v0+json": "",
      "text/html": [
       "<div id='5293'>\n",
       "\n",
       "\n",
       "\n",
       "\n",
       "\n",
       "  <div class=\"bk-root\" id=\"4e6af86e-ae43-43e9-b374-351ab90cb4fe\" data-root-id=\"5293\"></div>\n",
       "</div>\n",
       "<script type=\"application/javascript\">(function(root) {\n",
       "  function embed_document(root) {\n",
       "    var docs_json = {\"bc2e3ee6-9894-42e9-a986-71e94045113c\":{\"defs\":[{\"extends\":null,\"module\":null,\"name\":\"ReactiveHTML1\",\"overrides\":[],\"properties\":[]},{\"extends\":null,\"module\":null,\"name\":\"FlexBox1\",\"overrides\":[],\"properties\":[{\"default\":\"flex-start\",\"kind\":null,\"name\":\"align_content\"},{\"default\":\"flex-start\",\"kind\":null,\"name\":\"align_items\"},{\"default\":\"row\",\"kind\":null,\"name\":\"flex_direction\"},{\"default\":\"wrap\",\"kind\":null,\"name\":\"flex_wrap\"},{\"default\":\"flex-start\",\"kind\":null,\"name\":\"justify_content\"}]},{\"extends\":null,\"module\":null,\"name\":\"GridStack1\",\"overrides\":[],\"properties\":[{\"default\":\"warn\",\"kind\":null,\"name\":\"mode\"},{\"default\":null,\"kind\":null,\"name\":\"ncols\"},{\"default\":null,\"kind\":null,\"name\":\"nrows\"},{\"default\":true,\"kind\":null,\"name\":\"allow_resize\"},{\"default\":true,\"kind\":null,\"name\":\"allow_drag\"},{\"default\":[],\"kind\":null,\"name\":\"state\"}]},{\"extends\":null,\"module\":null,\"name\":\"click1\",\"overrides\":[],\"properties\":[{\"default\":\"\",\"kind\":null,\"name\":\"terminal_output\"},{\"default\":\"\",\"kind\":null,\"name\":\"debug_name\"},{\"default\":0,\"kind\":null,\"name\":\"clears\"}]},{\"extends\":null,\"module\":null,\"name\":\"TemplateActions1\",\"overrides\":[],\"properties\":[{\"default\":0,\"kind\":null,\"name\":\"open_modal\"},{\"default\":0,\"kind\":null,\"name\":\"close_modal\"}]},{\"extends\":null,\"module\":null,\"name\":\"MaterialTemplateActions1\",\"overrides\":[],\"properties\":[{\"default\":0,\"kind\":null,\"name\":\"open_modal\"},{\"default\":0,\"kind\":null,\"name\":\"close_modal\"}]}],\"roots\":{\"references\":[{\"attributes\":{},\"id\":\"5343\",\"type\":\"CategoricalTickFormatter\"},{\"attributes\":{\"callback\":null,\"renderers\":[{\"id\":\"5339\"}],\"tags\":[\"hv_created\"],\"tooltips\":[[\"Year\",\"@{Year}\"],[\"Organisation\",\"@{Organisation}\"],[\"Yearly_Organisation_Launches\",\"@{Yearly_Organisation_Launches}\"]]},\"id\":\"5302\",\"type\":\"HoverTool\"},{\"attributes\":{},\"id\":\"5347\",\"type\":\"AllLabels\"},{\"attributes\":{\"children\":[{\"id\":\"5296\"},{\"id\":\"5298\"}],\"margin\":[0,0,0,0],\"name\":\"Row12911\"},\"id\":\"5295\",\"type\":\"Row\"},{\"attributes\":{\"bottom_units\":\"screen\",\"coordinates\":null,\"fill_alpha\":0.5,\"fill_color\":\"lightgrey\",\"group\":null,\"left_units\":\"screen\",\"level\":\"overlay\",\"line_alpha\":1.0,\"line_color\":\"black\",\"line_dash\":[4,4],\"line_width\":2,\"right_units\":\"screen\",\"syncable\":false,\"top_units\":\"screen\"},\"id\":\"5324\",\"type\":\"BoxAnnotation\"},{\"attributes\":{\"overlay\":{\"id\":\"5324\"}},\"id\":\"5322\",\"type\":\"BoxZoomTool\"},{\"attributes\":{\"axis\":{\"id\":\"5312\"},\"coordinates\":null,\"grid_line_color\":null,\"group\":null,\"ticker\":null},\"id\":\"5314\",\"type\":\"Grid\"},{\"attributes\":{},\"id\":\"5319\",\"type\":\"SaveTool\"},{\"attributes\":{},\"id\":\"5321\",\"type\":\"WheelZoomTool\"},{\"attributes\":{\"factors\":[\"RVSN USSR\",\"US Navy\"],\"palette\":[\"#30a2da\",\"#fc4f30\"]},\"id\":\"5332\",\"type\":\"CategoricalColorMapper\"},{\"attributes\":{\"children\":[{\"id\":\"5303\"}],\"margin\":[0,0,0,0],\"name\":\"Row12815\"},\"id\":\"5299\",\"type\":\"Row\"},{\"attributes\":{\"children\":[{\"id\":\"5295\"},{\"id\":\"5299\"}],\"margin\":[0,0,0,0],\"name\":\"Column12912\"},\"id\":\"5294\",\"type\":\"Column\"},{\"attributes\":{},\"id\":\"5313\",\"type\":\"CategoricalTicker\"},{\"attributes\":{\"end\":2020,\"margin\":[5,10,5,10],\"start\":1957,\"title\":\"Year slider\",\"value\":1957},\"id\":\"5297\",\"type\":\"Slider\"},{\"attributes\":{},\"id\":\"5355\",\"type\":\"UnionRenderers\"},{\"attributes\":{},\"id\":\"5316\",\"type\":\"BasicTicker\"},{\"attributes\":{\"coordinates\":null,\"data_source\":{\"id\":\"5333\"},\"glyph\":{\"id\":\"5336\"},\"group\":null,\"hover_glyph\":null,\"muted_glyph\":{\"id\":\"5338\"},\"nonselection_glyph\":{\"id\":\"5337\"},\"selection_glyph\":{\"id\":\"5341\"},\"view\":{\"id\":\"5340\"}},\"id\":\"5339\",\"type\":\"GlyphRenderer\"},{\"attributes\":{\"axis_label\":\"Year, Organisation\",\"coordinates\":null,\"formatter\":{\"id\":\"5343\"},\"group\":null,\"major_label_orientation\":1.5707963267948966,\"major_label_policy\":{\"id\":\"5344\"},\"ticker\":{\"id\":\"5313\"}},\"id\":\"5312\",\"type\":\"CategoricalAxis\"},{\"attributes\":{\"source\":{\"id\":\"5333\"}},\"id\":\"5340\",\"type\":\"CDSView\"},{\"attributes\":{},\"id\":\"5346\",\"type\":\"BasicTickFormatter\"},{\"attributes\":{\"children\":[{\"id\":\"5297\"}],\"margin\":[0,0,0,0],\"name\":\"Column12810\"},\"id\":\"5296\",\"type\":\"Column\"},{\"attributes\":{\"client_comm_id\":\"5bccd08e3a9d4fd1bb5519b8cc28e66d\",\"comm_id\":\"e45e9bc99ee947f4b69857633b6f51a6\",\"plot_id\":\"5293\"},\"id\":\"5398\",\"type\":\"panel.models.comm_manager.CommManager\"},{\"attributes\":{\"margin\":[5,5,5,5],\"name\":\"HSpacer12910\",\"sizing_mode\":\"stretch_width\"},\"id\":\"5298\",\"type\":\"Spacer\"},{\"attributes\":{},\"id\":\"5308\",\"type\":\"CategoricalScale\"},{\"attributes\":{},\"id\":\"5310\",\"type\":\"LinearScale\"},{\"attributes\":{},\"id\":\"5344\",\"type\":\"AllLabels\"},{\"attributes\":{\"below\":[{\"id\":\"5312\"}],\"center\":[{\"id\":\"5314\"},{\"id\":\"5318\"}],\"height\":300,\"left\":[{\"id\":\"5315\"}],\"margin\":[5,5,5,5],\"min_border_bottom\":10,\"min_border_left\":10,\"min_border_right\":10,\"min_border_top\":10,\"renderers\":[{\"id\":\"5339\"}],\"sizing_mode\":\"fixed\",\"title\":{\"id\":\"5304\"},\"toolbar\":{\"id\":\"5325\"},\"width\":800,\"x_range\":{\"id\":\"5300\"},\"x_scale\":{\"id\":\"5308\"},\"y_range\":{\"id\":\"5301\"},\"y_scale\":{\"id\":\"5310\"}},\"id\":\"5303\",\"subtype\":\"Figure\",\"type\":\"Plot\"},{\"attributes\":{\"bottom\":{\"value\":0},\"fill_alpha\":{\"value\":1.0},\"fill_color\":{\"field\":\"Organisation\",\"transform\":{\"id\":\"5332\"}},\"hatch_alpha\":{\"value\":1.0},\"hatch_color\":{\"field\":\"Organisation\",\"transform\":{\"id\":\"5332\"}},\"hatch_scale\":{\"value\":12.0},\"hatch_weight\":{\"value\":1.0},\"line_alpha\":{\"value\":1.0},\"line_cap\":{\"value\":\"butt\"},\"line_color\":{\"value\":\"black\"},\"line_dash\":{\"value\":[]},\"line_dash_offset\":{\"value\":0},\"line_join\":{\"value\":\"bevel\"},\"line_width\":{\"value\":1},\"top\":{\"field\":\"Yearly_Organisation_Launches\"},\"width\":{\"value\":0.8},\"x\":{\"field\":\"xoffsets\"}},\"id\":\"5341\",\"type\":\"VBar\"},{\"attributes\":{\"factors\":[[\"1957\",\"RVSN USSR\"],[\"1957\",\"US Navy\"]],\"tags\":[[[\"Year\",\"Year\",null],[\"Organisation\",\"Organisation\",null]]]},\"id\":\"5300\",\"type\":\"FactorRange\"},{\"attributes\":{\"tools\":[{\"id\":\"5302\"},{\"id\":\"5319\"},{\"id\":\"5320\"},{\"id\":\"5321\"},{\"id\":\"5322\"},{\"id\":\"5323\"}]},\"id\":\"5325\",\"type\":\"Toolbar\"},{\"attributes\":{},\"id\":\"5334\",\"type\":\"Selection\"},{\"attributes\":{\"fill_alpha\":{\"value\":0.1},\"fill_color\":{\"field\":\"Organisation\",\"transform\":{\"id\":\"5332\"}},\"hatch_alpha\":{\"value\":0.1},\"hatch_color\":{\"field\":\"Organisation\",\"transform\":{\"id\":\"5332\"}},\"line_alpha\":{\"value\":0.1},\"top\":{\"field\":\"Yearly_Organisation_Launches\"},\"width\":{\"value\":0.8},\"x\":{\"field\":\"xoffsets\"}},\"id\":\"5337\",\"type\":\"VBar\"},{\"attributes\":{\"axis_label\":\"Yearly_Organisation_Launches\",\"coordinates\":null,\"formatter\":{\"id\":\"5346\"},\"group\":null,\"major_label_policy\":{\"id\":\"5347\"},\"ticker\":{\"id\":\"5316\"}},\"id\":\"5315\",\"type\":\"LinearAxis\"},{\"attributes\":{\"axis\":{\"id\":\"5315\"},\"coordinates\":null,\"dimension\":1,\"grid_line_color\":null,\"group\":null,\"ticker\":null},\"id\":\"5318\",\"type\":\"Grid\"},{\"attributes\":{\"end\":2.1,\"reset_end\":2.1,\"reset_start\":0.0,\"tags\":[[[\"Yearly_Organisation_Launches\",\"Yearly_Organisation_Launches\",null]]]},\"id\":\"5301\",\"type\":\"Range1d\"},{\"attributes\":{\"fill_alpha\":{\"value\":0.2},\"fill_color\":{\"field\":\"Organisation\",\"transform\":{\"id\":\"5332\"}},\"hatch_alpha\":{\"value\":0.2},\"hatch_color\":{\"field\":\"Organisation\",\"transform\":{\"id\":\"5332\"}},\"line_alpha\":{\"value\":0.2},\"top\":{\"field\":\"Yearly_Organisation_Launches\"},\"width\":{\"value\":0.8},\"x\":{\"field\":\"xoffsets\"}},\"id\":\"5338\",\"type\":\"VBar\"},{\"attributes\":{\"data\":{\"Organisation\":[\"RVSN USSR\",\"US Navy\"],\"Year\":[\"1957\",\"1957\"],\"Yearly_Organisation_Launches\":[2,1],\"xoffsets\":[[\"1957\",\"RVSN USSR\"],[\"1957\",\"US Navy\"]]},\"selected\":{\"id\":\"5334\"},\"selection_policy\":{\"id\":\"5355\"}},\"id\":\"5333\",\"type\":\"ColumnDataSource\"},{\"attributes\":{},\"id\":\"5323\",\"type\":\"ResetTool\"},{\"attributes\":{\"children\":[{\"id\":\"5294\"}],\"margin\":[0,0,0,0],\"name\":\"Row12913\"},\"id\":\"5293\",\"type\":\"Row\"},{\"attributes\":{\"coordinates\":null,\"group\":null,\"text_color\":\"black\",\"text_font_size\":\"12pt\"},\"id\":\"5304\",\"type\":\"Title\"},{\"attributes\":{},\"id\":\"5320\",\"type\":\"PanTool\"},{\"attributes\":{\"fill_color\":{\"field\":\"Organisation\",\"transform\":{\"id\":\"5332\"}},\"hatch_color\":{\"field\":\"Organisation\",\"transform\":{\"id\":\"5332\"}},\"top\":{\"field\":\"Yearly_Organisation_Launches\"},\"width\":{\"value\":0.8},\"x\":{\"field\":\"xoffsets\"}},\"id\":\"5336\",\"type\":\"VBar\"}],\"root_ids\":[\"5293\",\"5398\"]},\"title\":\"Bokeh Application\",\"version\":\"2.4.2\"}};\n",
       "    var render_items = [{\"docid\":\"bc2e3ee6-9894-42e9-a986-71e94045113c\",\"root_ids\":[\"5293\"],\"roots\":{\"5293\":\"4e6af86e-ae43-43e9-b374-351ab90cb4fe\"}}];\n",
       "    root.Bokeh.embed.embed_items_notebook(docs_json, render_items);\n",
       "  }\n",
       "  if (root.Bokeh !== undefined && root.Bokeh.Panel !== undefined && ( root['Tabulator'] !== undefined)) {\n",
       "    embed_document(root);\n",
       "  } else {\n",
       "    var attempts = 0;\n",
       "    var timer = setInterval(function(root) {\n",
       "      if (root.Bokeh !== undefined && root.Bokeh.Panel !== undefined && (root['Tabulator'] !== undefined)) {\n",
       "        clearInterval(timer);\n",
       "        embed_document(root);\n",
       "      } else if (document.readyState == \"complete\") {\n",
       "        attempts++;\n",
       "        if (attempts > 200) {\n",
       "          clearInterval(timer);\n",
       "          console.log(\"Bokeh: ERROR: Unable to run BokehJS code because BokehJS library is missing\");\n",
       "        }\n",
       "      }\n",
       "    }, 25, root)\n",
       "  }\n",
       "})(window);</script>"
      ],
      "text/plain": [
       "<hvplot.interactive.Interactive at 0x56b2af63b0>"
      ]
     },
     "execution_count": 20,
     "metadata": {
      "application/vnd.holoviews_exec.v0+json": {
       "id": "5293"
      }
     },
     "output_type": "execute_result"
    }
   ],
   "source": [
    "launch_plot"
   ]
  },
  {
   "cell_type": "code",
   "execution_count": 21,
   "id": "433afddf",
   "metadata": {},
   "outputs": [],
   "source": [
    "png_image = pn.pane.PNG('https://www.nasa.gov/sites/default/files/thumbnails/image/sls-70mt-dac3-orange-launch-uhr2_adj_tw.jpg',width=330,height=280)"
   ]
  },
  {
   "cell_type": "code",
   "execution_count": null,
   "id": "65ab2a5f",
   "metadata": {},
   "outputs": [],
   "source": []
  },
  {
   "cell_type": "code",
   "execution_count": 22,
   "id": "b35ed0fd",
   "metadata": {},
   "outputs": [
    {
     "name": "stdout",
     "output_type": "stream",
     "text": [
      "Launching server at http://localhost:51274\n"
     ]
    }
   ],
   "source": [
    "template = pn.template.MaterialTemplate(title='Space Missions Analysis',)\n",
    "\n",
    "\n",
    "template.sidebar.append(pn.pane.Markdown(\"# Space Missions from 1957 to 2020\"))\n",
    "template.sidebar.append(pn.Card(png_image))\n",
    "template.sidebar.append(year_slider)\n",
    "\n",
    "\n",
    "template.main.append(\n",
    "    pn.Row(\n",
    "        pn.Card(launch_plot.panel(width=1025,height=550), title='Missions per year'),\n",
    "        \n",
    "    )\n",
    ")\n",
    "\n",
    "#template.servable();\n",
    "template.show();\n",
    "\n",
    "#source:https://panel.holoviz.org/reference/templates/Bootstrap.html"
   ]
  }
 ],
 "metadata": {
  "kernelspec": {
   "display_name": "Python 3 (ipykernel)",
   "language": "python",
   "name": "python3"
  },
  "language_info": {
   "codemirror_mode": {
    "name": "ipython",
    "version": 3
   },
   "file_extension": ".py",
   "mimetype": "text/x-python",
   "name": "python",
   "nbconvert_exporter": "python",
   "pygments_lexer": "ipython3",
   "version": "3.10.4"
  }
 },
 "nbformat": 4,
 "nbformat_minor": 5
}
